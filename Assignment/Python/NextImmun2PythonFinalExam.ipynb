{
  "nbformat": 4,
  "nbformat_minor": 0,
  "metadata": {
    "colab": {
      "provenance": []
    },
    "kernelspec": {
      "name": "python3",
      "display_name": "Python 3"
    },
    "language_info": {
      "name": "python"
    }
  },
  "cells": [
    {
      "cell_type": "markdown",
      "source": [
        "## This Jupyter Notebook serves as a demo Workflow of cleaning and exploring IgE measurements with Pax for an allergen panel involve testing blood samples to detect Immunoglobulin E (IgE) antibody levels against specific allergens using the Pax system.\n",
        "\n",
        "Fill in the empty code cells below. Feel free to add more code cells if needed."
      ],
      "metadata": {
        "id": "9Wpep-sI3ojO"
      }
    },
    {
      "cell_type": "markdown",
      "source": [
        "### Data upload:\n",
        "- Use the upload button on the left to upload the file: 'PAX_Data.xlsx'\n",
        "- By default the data should have been upload to into the folder '/content'"
      ],
      "metadata": {
        "id": "EEGRQs2QEGs0"
      }
    },
    {
      "cell_type": "markdown",
      "source": [
        "## Load the required modules\n",
        "- Just run the following code-cell to load all modules needed for this exercise"
      ],
      "metadata": {
        "id": "apC-TfeGEkuC"
      }
    },
    {
      "cell_type": "code",
      "execution_count": 1,
      "metadata": {
        "id": "l-jtRZ_b8J1K"
      },
      "outputs": [],
      "source": [
        "import os\n",
        "import pandas as pd\n",
        "import numpy as np"
      ]
    },
    {
      "cell_type": "markdown",
      "source": [
        "### Checking the working directory:\n",
        "- use 'os.getcwd()' method to check for the current working directory.\n",
        "- If you are using Google Colab, the default working directory should be the folder 'content'\n",
        "- If not, use the 'os. chdir(<path>)' method to make sure to set the working directory"
      ],
      "metadata": {
        "id": "b2m0MQK8C6JK"
      }
    },
    {
      "cell_type": "code",
      "source": [
        "os.getcwd()"
      ],
      "metadata": {
        "id": "jCGpnwB79b_P",
        "outputId": "2857ea0b-2b6e-4655-f2be-670b7808f582",
        "colab": {
          "base_uri": "https://localhost:8080/",
          "height": 35
        }
      },
      "execution_count": 2,
      "outputs": [
        {
          "output_type": "execute_result",
          "data": {
            "text/plain": [
              "'/content'"
            ],
            "application/vnd.google.colaboratory.intrinsic+json": {
              "type": "string"
            }
          },
          "metadata": {},
          "execution_count": 2
        }
      ]
    },
    {
      "cell_type": "markdown",
      "source": [
        "## Read the excel file\n",
        "- if you are not using Google Colab, make sure to set the path to your data file correctly: \\'<FILE-PATH\\>/PAX_Data.xlsx'\n",
        "- use: 'Sheet1' as sheet_name\n",
        "- ignore the header: header=None\n",
        "- assign the loaded data to a variable called: df\n"
      ],
      "metadata": {
        "id": "NvsWxy8F9-uy"
      }
    },
    {
      "cell_type": "code",
      "source": [
        "file_name = 'PAX_Data.xlsx'\n",
        "df = pd.read_excel(file_name, sheet_name='Sheet1', header=None)\n",
        "print(df)"
      ],
      "metadata": {
        "id": "bF0WoJbC8d02",
        "outputId": "03f55ac6-e73f-4c38-c9b8-3c85f02cef73",
        "colab": {
          "base_uri": "https://localhost:8080/"
        }
      },
      "execution_count": 4,
      "outputs": [
        {
          "output_type": "stream",
          "name": "stdout",
          "text": [
            "              0                1               2               3     \\\n",
            "0     Date of test       2023-04-13      2023-04-13      2023-04-13   \n",
            "1      Test number      2334000487D     2331000683D     2331000884D   \n",
            "2          Country            Spain      Netherland         Germany   \n",
            "3          Age Y/M  3Years 11Months  2Years 8Months  2Years 8Months   \n",
            "4              Sex           Female            Male            Male   \n",
            "..             ...              ...             ...             ...   \n",
            "245         Sola t            22.05           22.33           22.33   \n",
            "246      rSola t 2            22.36           24.08           24.08   \n",
            "247  rSola t_GBSSI            23.43           24.02           24.02   \n",
            "248      rHom s LF            27.51           27.94           27.94   \n",
            "249        CCD-HSA               27           25.61           25.61   \n",
            "\n",
            "               4                 5               6               7     \\\n",
            "0        2023-04-13        2023-04-13      2023-04-13      2023-04-13   \n",
            "1       2331000880D       2331000851D     2331001025D     2331000881D   \n",
            "2           Germany        Netherland          Sweden         Germany   \n",
            "3    7Years 9Months  11Years 11Months  4Years 8Months  1Years 9Months   \n",
            "4            Female              Male          Female            Male   \n",
            "..              ...               ...             ...             ...   \n",
            "245           21.61             21.85           20.94           19.71   \n",
            "246           16.39             16.83           30.73           18.29   \n",
            "247           19.78             20.01           24.56           23.26   \n",
            "248           27.75             27.55            27.9           27.82   \n",
            "249           24.08             22.01           21.98           21.86   \n",
            "\n",
            "               8               9     ...            6606            6607  \\\n",
            "0        2023-04-13      2023-04-13  ...      2023-06-30      2023-06-30   \n",
            "1       2331000879D     2344000227D  ...     2334002233D     2348000664D   \n",
            "2           Germany              UK  ...        Slovenia          Poland   \n",
            "3    6Years 9Months  3Years 8Months  ...  8Years 8Months  3Years 7Months   \n",
            "4            Female          Female  ...          Female          Female   \n",
            "..              ...             ...  ...             ...             ...   \n",
            "245           21.27           18.76  ...           20.05           21.44   \n",
            "246            19.2           18.89  ...           17.37           19.06   \n",
            "247           21.62           21.01  ...           21.38            20.4   \n",
            "248           27.71           27.65  ...           16.05           15.96   \n",
            "249           21.37           21.24  ...           17.95           18.37   \n",
            "\n",
            "               6608            6609            6610            6611  \\\n",
            "0        2023-06-30      2023-06-30      2023-06-30      2023-06-30   \n",
            "1       2331003597D     2331003185D     2331003447D     2334002232D   \n",
            "2           Belgium          Norway      Netherland        Slovenia   \n",
            "3    3Years 7Months  1Years 5Months  1Years 5Months  2Years 5Months   \n",
            "4            Female          Female          Female            Male   \n",
            "..              ...             ...             ...             ...   \n",
            "245            21.6           18.46           19.28           19.28   \n",
            "246            19.1           18.23           16.97           16.97   \n",
            "247           20.35           21.23           20.13           20.13   \n",
            "248           15.85           15.76           15.76           15.76   \n",
            "249           17.59           18.89           17.13           17.13   \n",
            "\n",
            "               6612            6613            6614            6615  \n",
            "0        2023-06-30      2023-06-30      2023-06-30      2023-06-30  \n",
            "1       2344000712D     2331003547D     2344000711D     2334002236D  \n",
            "2                UK      Netherland              UK           Spain  \n",
            "3    2Years 5Months  2Years 5Months  2Years 5Months  2Years 5Months  \n",
            "4              Male            Male            Male            Male  \n",
            "..              ...             ...             ...             ...  \n",
            "245           20.99           19.42           19.89           18.79  \n",
            "246           19.72           19.35           17.84           16.53  \n",
            "247           21.65           21.24           20.97           19.07  \n",
            "248           15.66           15.55           15.44            14.9  \n",
            "249           17.25           17.78           17.76           16.76  \n",
            "\n",
            "[250 rows x 6616 columns]\n"
          ]
        }
      ]
    },
    {
      "cell_type": "markdown",
      "source": [
        "### Print the 'shape' of the dataframe"
      ],
      "metadata": {
        "id": "M6yjtn4WGiez"
      }
    },
    {
      "cell_type": "code",
      "source": [
        "print(df.shape)"
      ],
      "metadata": {
        "id": "BbpLo_WBGcYY",
        "outputId": "956fc5a6-c734-4c77-e9e7-fe2b37b5e480",
        "colab": {
          "base_uri": "https://localhost:8080/"
        }
      },
      "execution_count": 5,
      "outputs": [
        {
          "output_type": "stream",
          "name": "stdout",
          "text": [
            "(250, 6616)\n"
          ]
        }
      ]
    },
    {
      "cell_type": "markdown",
      "source": [
        "### Print the number of rows:"
      ],
      "metadata": {
        "id": "OcRJcshNI6SG"
      }
    },
    {
      "cell_type": "code",
      "source": [
        "print(df.shape[0])"
      ],
      "metadata": {
        "id": "npdOHFeOI_0B",
        "outputId": "28a6e49d-a160-40fc-a6c8-cb358974ec51",
        "colab": {
          "base_uri": "https://localhost:8080/"
        }
      },
      "execution_count": 6,
      "outputs": [
        {
          "output_type": "stream",
          "name": "stdout",
          "text": [
            "250\n"
          ]
        }
      ]
    },
    {
      "cell_type": "markdown",
      "source": [
        "### Use the 'head' method to have a look at the first 10 rows of the table"
      ],
      "metadata": {
        "id": "FIQmZ_3i_ex0"
      }
    },
    {
      "cell_type": "code",
      "source": [
        "print(df.head(10))"
      ],
      "metadata": {
        "id": "p0HlMDZF9D-5",
        "outputId": "9da0bb1e-ae24-48ef-df2d-60ed9104bcc6",
        "colab": {
          "base_uri": "https://localhost:8080/"
        }
      },
      "execution_count": 7,
      "outputs": [
        {
          "output_type": "stream",
          "name": "stdout",
          "text": [
            "           0                1               2               3     \\\n",
            "0  Date of test       2023-04-13      2023-04-13      2023-04-13   \n",
            "1   Test number      2334000487D     2331000683D     2331000884D   \n",
            "2       Country            Spain      Netherland         Germany   \n",
            "3       Age Y/M  3Years 11Months  2Years 8Months  2Years 8Months   \n",
            "4           Sex           Female            Male            Male   \n",
            "5         Cyn d             18.5           19.67           20.11   \n",
            "6      rCyn d 1            22.99           21.95           20.66   \n",
            "7         Dac g            19.15           19.57           21.78   \n",
            "8         Fes p            21.84            21.3           26.96   \n",
            "9      rLol p 1            22.33           22.23           22.59   \n",
            "\n",
            "             4                 5               6               7     \\\n",
            "0      2023-04-13        2023-04-13      2023-04-13      2023-04-13   \n",
            "1     2331000880D       2331000851D     2331001025D     2331000881D   \n",
            "2         Germany        Netherland          Sweden         Germany   \n",
            "3  7Years 9Months  11Years 11Months  4Years 8Months  1Years 9Months   \n",
            "4          Female              Male          Female            Male   \n",
            "5           18.09             17.92           17.78           18.64   \n",
            "6           21.68             20.56           21.62           22.83   \n",
            "7           18.37             18.12           19.35           19.95   \n",
            "8           24.05             23.21           22.62           21.98   \n",
            "9           21.99             23.16           21.27           22.99   \n",
            "\n",
            "             8               9     ...            6606            6607  \\\n",
            "0      2023-04-13      2023-04-13  ...      2023-06-30      2023-06-30   \n",
            "1     2331000879D     2344000227D  ...     2334002233D     2348000664D   \n",
            "2         Germany              UK  ...        Slovenia          Poland   \n",
            "3  6Years 9Months  3Years 8Months  ...  8Years 8Months  3Years 7Months   \n",
            "4          Female          Female  ...          Female          Female   \n",
            "5            21.3            20.5  ...           16.33           17.18   \n",
            "6            23.2           25.07  ...           23.27           21.77   \n",
            "7           21.52           20.55  ...           19.28           20.33   \n",
            "8           24.55           20.39  ...           21.14           22.39   \n",
            "9           23.95           21.35  ...           17.81           19.57   \n",
            "\n",
            "             6608            6609            6610            6611  \\\n",
            "0      2023-06-30      2023-06-30      2023-06-30      2023-06-30   \n",
            "1     2331003597D     2331003185D     2331003447D     2334002232D   \n",
            "2         Belgium          Norway      Netherland        Slovenia   \n",
            "3  3Years 7Months  1Years 5Months  1Years 5Months  2Years 5Months   \n",
            "4          Female          Female          Female            Male   \n",
            "5           15.48           15.79           18.64           17.44   \n",
            "6           21.78           20.69           26.49           20.76   \n",
            "7           17.34           19.06           18.86           17.84   \n",
            "8           20.93           21.78           19.95           20.64   \n",
            "9           22.76           21.23           21.77           19.41   \n",
            "\n",
            "             6612            6613            6614            6615  \n",
            "0      2023-06-30      2023-06-30      2023-06-30      2023-06-30  \n",
            "1     2344000712D     2331003547D     2344000711D     2334002236D  \n",
            "2              UK      Netherland              UK           Spain  \n",
            "3  2Years 5Months  2Years 5Months  2Years 5Months  2Years 5Months  \n",
            "4            Male            Male            Male            Male  \n",
            "5           17.05           18.42           19.03           16.73  \n",
            "6           21.07           24.48            21.4           20.12  \n",
            "7           18.67           19.99           21.01            17.4  \n",
            "8           20.79           19.24           24.33           20.77  \n",
            "9           22.32           20.15            22.7           20.96  \n",
            "\n",
            "[10 rows x 6616 columns]\n"
          ]
        }
      ]
    },
    {
      "cell_type": "markdown",
      "source": [
        "### Splitting the Data:\n",
        "- As you can see, row 0 to 4 contains the metadata of the experiment\n",
        "- Row 5 to end contains the measured expression data of Allergens\n",
        "\n",
        "Now, we need to split the data into:\n",
        "- Metadata and\n",
        "- Expression data\n",
        "\n",
        "Check the documentation of the pandas method 'iloc'\n",
        "- Split the data, row 0 to 4 and assing it to a variable called: md\n",
        "- From row 5 to end, assing the expression data to a variable called: expr"
      ],
      "metadata": {
        "id": "FGDpXLD4JKbf"
      }
    },
    {
      "cell_type": "code",
      "source": [
        "# Split data into metadata\n",
        "md = df.iloc[0:5] # Row 0 to 4 (inclusive)\n",
        "print(md)\n"
      ],
      "metadata": {
        "id": "GIfzdrCN95Q6",
        "outputId": "668675bb-9ee5-4a45-8f1d-b8f66a896b23",
        "colab": {
          "base_uri": "https://localhost:8080/"
        }
      },
      "execution_count": 8,
      "outputs": [
        {
          "output_type": "stream",
          "name": "stdout",
          "text": [
            "           0                1               2               3     \\\n",
            "0  Date of test       2023-04-13      2023-04-13      2023-04-13   \n",
            "1   Test number      2334000487D     2331000683D     2331000884D   \n",
            "2       Country            Spain      Netherland         Germany   \n",
            "3       Age Y/M  3Years 11Months  2Years 8Months  2Years 8Months   \n",
            "4           Sex           Female            Male            Male   \n",
            "\n",
            "             4                 5               6               7     \\\n",
            "0      2023-04-13        2023-04-13      2023-04-13      2023-04-13   \n",
            "1     2331000880D       2331000851D     2331001025D     2331000881D   \n",
            "2         Germany        Netherland          Sweden         Germany   \n",
            "3  7Years 9Months  11Years 11Months  4Years 8Months  1Years 9Months   \n",
            "4          Female              Male          Female            Male   \n",
            "\n",
            "             8               9     ...            6606            6607  \\\n",
            "0      2023-04-13      2023-04-13  ...      2023-06-30      2023-06-30   \n",
            "1     2331000879D     2344000227D  ...     2334002233D     2348000664D   \n",
            "2         Germany              UK  ...        Slovenia          Poland   \n",
            "3  6Years 9Months  3Years 8Months  ...  8Years 8Months  3Years 7Months   \n",
            "4          Female          Female  ...          Female          Female   \n",
            "\n",
            "             6608            6609            6610            6611  \\\n",
            "0      2023-06-30      2023-06-30      2023-06-30      2023-06-30   \n",
            "1     2331003597D     2331003185D     2331003447D     2334002232D   \n",
            "2         Belgium          Norway      Netherland        Slovenia   \n",
            "3  3Years 7Months  1Years 5Months  1Years 5Months  2Years 5Months   \n",
            "4          Female          Female          Female            Male   \n",
            "\n",
            "             6612            6613            6614            6615  \n",
            "0      2023-06-30      2023-06-30      2023-06-30      2023-06-30  \n",
            "1     2344000712D     2331003547D     2344000711D     2334002236D  \n",
            "2              UK      Netherland              UK           Spain  \n",
            "3  2Years 5Months  2Years 5Months  2Years 5Months  2Years 5Months  \n",
            "4            Male            Male            Male            Male  \n",
            "\n",
            "[5 rows x 6616 columns]\n"
          ]
        }
      ]
    },
    {
      "cell_type": "code",
      "source": [
        "# Split data into expression data\n",
        "expr = df.iloc[5:] # Row 5 to end\n",
        "print(expr)"
      ],
      "metadata": {
        "id": "q9C8YMSA_u54",
        "outputId": "7582dabb-d123-429b-a554-c9a6b54575de",
        "colab": {
          "base_uri": "https://localhost:8080/"
        }
      },
      "execution_count": 9,
      "outputs": [
        {
          "output_type": "stream",
          "name": "stdout",
          "text": [
            "              0      1      2      3      4      5      6      7      8     \\\n",
            "5            Cyn d   18.5  19.67  20.11  18.09  17.92  17.78  18.64   21.3   \n",
            "6         rCyn d 1  22.99  21.95  20.66  21.68  20.56  21.62  22.83   23.2   \n",
            "7            Dac g  19.15  19.57  21.78  18.37  18.12  19.35  19.95  21.52   \n",
            "8            Fes p  21.84   21.3  26.96  24.05  23.21  22.62  21.98  24.55   \n",
            "9         rLol p 1  22.33  22.23  22.59  21.99  23.16  21.27  22.99  23.95   \n",
            "..             ...    ...    ...    ...    ...    ...    ...    ...    ...   \n",
            "245         Sola t  22.05  22.33  22.33  21.61  21.85  20.94  19.71  21.27   \n",
            "246      rSola t 2  22.36  24.08  24.08  16.39  16.83  30.73  18.29   19.2   \n",
            "247  rSola t_GBSSI  23.43  24.02  24.02  19.78  20.01  24.56  23.26  21.62   \n",
            "248      rHom s LF  27.51  27.94  27.94  27.75  27.55   27.9  27.82  27.71   \n",
            "249        CCD-HSA     27  25.61  25.61  24.08  22.01  21.98  21.86  21.37   \n",
            "\n",
            "      9     ...   6606   6607   6608   6609   6610   6611   6612   6613  \\\n",
            "5     20.5  ...  16.33  17.18  15.48  15.79  18.64  17.44  17.05  18.42   \n",
            "6    25.07  ...  23.27  21.77  21.78  20.69  26.49  20.76  21.07  24.48   \n",
            "7    20.55  ...  19.28  20.33  17.34  19.06  18.86  17.84  18.67  19.99   \n",
            "8    20.39  ...  21.14  22.39  20.93  21.78  19.95  20.64  20.79  19.24   \n",
            "9    21.35  ...  17.81  19.57  22.76  21.23  21.77  19.41  22.32  20.15   \n",
            "..     ...  ...    ...    ...    ...    ...    ...    ...    ...    ...   \n",
            "245  18.76  ...  20.05  21.44   21.6  18.46  19.28  19.28  20.99  19.42   \n",
            "246  18.89  ...  17.37  19.06   19.1  18.23  16.97  16.97  19.72  19.35   \n",
            "247  21.01  ...  21.38   20.4  20.35  21.23  20.13  20.13  21.65  21.24   \n",
            "248  27.65  ...  16.05  15.96  15.85  15.76  15.76  15.76  15.66  15.55   \n",
            "249  21.24  ...  17.95  18.37  17.59  18.89  17.13  17.13  17.25  17.78   \n",
            "\n",
            "      6614   6615  \n",
            "5    19.03  16.73  \n",
            "6     21.4  20.12  \n",
            "7    21.01   17.4  \n",
            "8    24.33  20.77  \n",
            "9     22.7  20.96  \n",
            "..     ...    ...  \n",
            "245  19.89  18.79  \n",
            "246  17.84  16.53  \n",
            "247  20.97  19.07  \n",
            "248  15.44   14.9  \n",
            "249  17.76  16.76  \n",
            "\n",
            "[245 rows x 6616 columns]\n"
          ]
        }
      ]
    },
    {
      "cell_type": "markdown",
      "source": [
        "### Print the 'shape' of each new table"
      ],
      "metadata": {
        "id": "YP7i_N0vLXZl"
      }
    },
    {
      "cell_type": "code",
      "source": [
        "print(md.shape)\n",
        "print(expr.shape)"
      ],
      "metadata": {
        "id": "ud1T07b-KXmM",
        "outputId": "eca76b9f-5987-4472-8ddf-405c9a082b51",
        "colab": {
          "base_uri": "https://localhost:8080/"
        }
      },
      "execution_count": 10,
      "outputs": [
        {
          "output_type": "stream",
          "name": "stdout",
          "text": [
            "(5, 6616)\n",
            "(245, 6616)\n"
          ]
        }
      ]
    },
    {
      "cell_type": "markdown",
      "source": [
        "### Use the 'head' method to inspect the expr table\n"
      ],
      "metadata": {
        "id": "uFK6FwvxMVtV"
      }
    },
    {
      "cell_type": "code",
      "source": [
        "print(expr.head)"
      ],
      "metadata": {
        "id": "UFm5WkVVKiy0",
        "outputId": "81a3ce36-e803-4162-a18f-cad1d4ecd979",
        "colab": {
          "base_uri": "https://localhost:8080/"
        }
      },
      "execution_count": 11,
      "outputs": [
        {
          "output_type": "stream",
          "name": "stdout",
          "text": [
            "<bound method NDFrame.head of               0      1      2      3      4      5      6      7      8     \\\n",
            "5            Cyn d   18.5  19.67  20.11  18.09  17.92  17.78  18.64   21.3   \n",
            "6         rCyn d 1  22.99  21.95  20.66  21.68  20.56  21.62  22.83   23.2   \n",
            "7            Dac g  19.15  19.57  21.78  18.37  18.12  19.35  19.95  21.52   \n",
            "8            Fes p  21.84   21.3  26.96  24.05  23.21  22.62  21.98  24.55   \n",
            "9         rLol p 1  22.33  22.23  22.59  21.99  23.16  21.27  22.99  23.95   \n",
            "..             ...    ...    ...    ...    ...    ...    ...    ...    ...   \n",
            "245         Sola t  22.05  22.33  22.33  21.61  21.85  20.94  19.71  21.27   \n",
            "246      rSola t 2  22.36  24.08  24.08  16.39  16.83  30.73  18.29   19.2   \n",
            "247  rSola t_GBSSI  23.43  24.02  24.02  19.78  20.01  24.56  23.26  21.62   \n",
            "248      rHom s LF  27.51  27.94  27.94  27.75  27.55   27.9  27.82  27.71   \n",
            "249        CCD-HSA     27  25.61  25.61  24.08  22.01  21.98  21.86  21.37   \n",
            "\n",
            "      9     ...   6606   6607   6608   6609   6610   6611   6612   6613  \\\n",
            "5     20.5  ...  16.33  17.18  15.48  15.79  18.64  17.44  17.05  18.42   \n",
            "6    25.07  ...  23.27  21.77  21.78  20.69  26.49  20.76  21.07  24.48   \n",
            "7    20.55  ...  19.28  20.33  17.34  19.06  18.86  17.84  18.67  19.99   \n",
            "8    20.39  ...  21.14  22.39  20.93  21.78  19.95  20.64  20.79  19.24   \n",
            "9    21.35  ...  17.81  19.57  22.76  21.23  21.77  19.41  22.32  20.15   \n",
            "..     ...  ...    ...    ...    ...    ...    ...    ...    ...    ...   \n",
            "245  18.76  ...  20.05  21.44   21.6  18.46  19.28  19.28  20.99  19.42   \n",
            "246  18.89  ...  17.37  19.06   19.1  18.23  16.97  16.97  19.72  19.35   \n",
            "247  21.01  ...  21.38   20.4  20.35  21.23  20.13  20.13  21.65  21.24   \n",
            "248  27.65  ...  16.05  15.96  15.85  15.76  15.76  15.76  15.66  15.55   \n",
            "249  21.24  ...  17.95  18.37  17.59  18.89  17.13  17.13  17.25  17.78   \n",
            "\n",
            "      6614   6615  \n",
            "5    19.03  16.73  \n",
            "6     21.4  20.12  \n",
            "7    21.01   17.4  \n",
            "8    24.33  20.77  \n",
            "9     22.7  20.96  \n",
            "..     ...    ...  \n",
            "245  19.89  18.79  \n",
            "246  17.84  16.53  \n",
            "247  20.97  19.07  \n",
            "248  15.44   14.9  \n",
            "249  17.76  16.76  \n",
            "\n",
            "[245 rows x 6616 columns]>\n"
          ]
        }
      ]
    },
    {
      "cell_type": "markdown",
      "source": [
        "As you can see column 0 contains the name of the Allergens\n",
        "\n",
        "- Set the Allergen names as the index of the table (similar to rownames in R)example:   'expr.index = ...'\n",
        "- 'drop' the column 0 and override the current variable"
      ],
      "metadata": {
        "id": "6DLnuds7NaeC"
      }
    },
    {
      "cell_type": "code",
      "source": [
        "expr = expr.set_index(expr.columns[0]) # Set Allergen names in column 0 as index\n",
        "print(expr)"
      ],
      "metadata": {
        "id": "ZI85erLrNF_s",
        "outputId": "97a67c7e-e3a0-4dc4-ea5d-c8c0309015cb",
        "colab": {
          "base_uri": "https://localhost:8080/"
        }
      },
      "execution_count": 12,
      "outputs": [
        {
          "output_type": "stream",
          "name": "stdout",
          "text": [
            "                1      2      3      4      5      6      7      8      9     \\\n",
            "0                                                                              \n",
            "Cyn d           18.5  19.67  20.11  18.09  17.92  17.78  18.64   21.3   20.5   \n",
            "rCyn d 1       22.99  21.95  20.66  21.68  20.56  21.62  22.83   23.2  25.07   \n",
            "Dac g          19.15  19.57  21.78  18.37  18.12  19.35  19.95  21.52  20.55   \n",
            "Fes p          21.84   21.3  26.96  24.05  23.21  22.62  21.98  24.55  20.39   \n",
            "rLol p 1       22.33  22.23  22.59  21.99  23.16  21.27  22.99  23.95  21.35   \n",
            "...              ...    ...    ...    ...    ...    ...    ...    ...    ...   \n",
            "Sola t         22.05  22.33  22.33  21.61  21.85  20.94  19.71  21.27  18.76   \n",
            "rSola t 2      22.36  24.08  24.08  16.39  16.83  30.73  18.29   19.2  18.89   \n",
            "rSola t_GBSSI  23.43  24.02  24.02  19.78  20.01  24.56  23.26  21.62  21.01   \n",
            "rHom s LF      27.51  27.94  27.94  27.75  27.55   27.9  27.82  27.71  27.65   \n",
            "CCD-HSA           27  25.61  25.61  24.08  22.01  21.98  21.86  21.37  21.24   \n",
            "\n",
            "                10    ...   6606   6607   6608   6609   6610   6611   6612  \\\n",
            "0                     ...                                                    \n",
            "Cyn d          17.64  ...  16.33  17.18  15.48  15.79  18.64  17.44  17.05   \n",
            "rCyn d 1       22.32  ...  23.27  21.77  21.78  20.69  26.49  20.76  21.07   \n",
            "Dac g          19.35  ...  19.28  20.33  17.34  19.06  18.86  17.84  18.67   \n",
            "Fes p          22.08  ...  21.14  22.39  20.93  21.78  19.95  20.64  20.79   \n",
            "rLol p 1       22.06  ...  17.81  19.57  22.76  21.23  21.77  19.41  22.32   \n",
            "...              ...  ...    ...    ...    ...    ...    ...    ...    ...   \n",
            "Sola t         18.76  ...  20.05  21.44   21.6  18.46  19.28  19.28  20.99   \n",
            "rSola t 2      18.89  ...  17.37  19.06   19.1  18.23  16.97  16.97  19.72   \n",
            "rSola t_GBSSI  21.01  ...  21.38   20.4  20.35  21.23  20.13  20.13  21.65   \n",
            "rHom s LF      27.65  ...  16.05  15.96  15.85  15.76  15.76  15.76  15.66   \n",
            "CCD-HSA        21.24  ...  17.95  18.37  17.59  18.89  17.13  17.13  17.25   \n",
            "\n",
            "                6613   6614   6615  \n",
            "0                                   \n",
            "Cyn d          18.42  19.03  16.73  \n",
            "rCyn d 1       24.48   21.4  20.12  \n",
            "Dac g          19.99  21.01   17.4  \n",
            "Fes p          19.24  24.33  20.77  \n",
            "rLol p 1       20.15   22.7  20.96  \n",
            "...              ...    ...    ...  \n",
            "Sola t         19.42  19.89  18.79  \n",
            "rSola t 2      19.35  17.84  16.53  \n",
            "rSola t_GBSSI  21.24  20.97  19.07  \n",
            "rHom s LF      15.55  15.44   14.9  \n",
            "CCD-HSA        17.78  17.76  16.76  \n",
            "\n",
            "[245 rows x 6615 columns]\n"
          ]
        }
      ]
    },
    {
      "cell_type": "markdown",
      "source": [
        "### Cleaning the Metadata\n",
        "- Use 'head' to look into the metadata\n",
        "Note that we want to use the rows as columns, therefore:\n",
        "- Transpose the metadata\n",
        "- Change the table: row 0 should be the column names"
      ],
      "metadata": {
        "id": "ePM108KeRjfe"
      }
    },
    {
      "cell_type": "code",
      "source": [
        "print(md.head) # look into Metadata"
      ],
      "metadata": {
        "id": "8L0bNeDfdpKN",
        "outputId": "30f73d7e-7a56-4e3a-8424-c878899eab6d",
        "colab": {
          "base_uri": "https://localhost:8080/"
        }
      },
      "execution_count": 13,
      "outputs": [
        {
          "output_type": "stream",
          "name": "stdout",
          "text": [
            "<bound method NDFrame.head of            0                1               2               3     \\\n",
            "0  Date of test       2023-04-13      2023-04-13      2023-04-13   \n",
            "1   Test number      2334000487D     2331000683D     2331000884D   \n",
            "2       Country            Spain      Netherland         Germany   \n",
            "3       Age Y/M  3Years 11Months  2Years 8Months  2Years 8Months   \n",
            "4           Sex           Female            Male            Male   \n",
            "\n",
            "             4                 5               6               7     \\\n",
            "0      2023-04-13        2023-04-13      2023-04-13      2023-04-13   \n",
            "1     2331000880D       2331000851D     2331001025D     2331000881D   \n",
            "2         Germany        Netherland          Sweden         Germany   \n",
            "3  7Years 9Months  11Years 11Months  4Years 8Months  1Years 9Months   \n",
            "4          Female              Male          Female            Male   \n",
            "\n",
            "             8               9     ...            6606            6607  \\\n",
            "0      2023-04-13      2023-04-13  ...      2023-06-30      2023-06-30   \n",
            "1     2331000879D     2344000227D  ...     2334002233D     2348000664D   \n",
            "2         Germany              UK  ...        Slovenia          Poland   \n",
            "3  6Years 9Months  3Years 8Months  ...  8Years 8Months  3Years 7Months   \n",
            "4          Female          Female  ...          Female          Female   \n",
            "\n",
            "             6608            6609            6610            6611  \\\n",
            "0      2023-06-30      2023-06-30      2023-06-30      2023-06-30   \n",
            "1     2331003597D     2331003185D     2331003447D     2334002232D   \n",
            "2         Belgium          Norway      Netherland        Slovenia   \n",
            "3  3Years 7Months  1Years 5Months  1Years 5Months  2Years 5Months   \n",
            "4          Female          Female          Female            Male   \n",
            "\n",
            "             6612            6613            6614            6615  \n",
            "0      2023-06-30      2023-06-30      2023-06-30      2023-06-30  \n",
            "1     2344000712D     2331003547D     2344000711D     2334002236D  \n",
            "2              UK      Netherland              UK           Spain  \n",
            "3  2Years 5Months  2Years 5Months  2Years 5Months  2Years 5Months  \n",
            "4            Male            Male            Male            Male  \n",
            "\n",
            "[5 rows x 6616 columns]>\n"
          ]
        }
      ]
    },
    {
      "cell_type": "code",
      "source": [
        "md_transposed = md.transpose() # transpose Metadata\n",
        "print(md_transposed)"
      ],
      "metadata": {
        "id": "YtnioXHEQWPX",
        "outputId": "852499f0-23e1-402d-dc31-6559b1ead3c2",
        "colab": {
          "base_uri": "https://localhost:8080/"
        }
      },
      "execution_count": 14,
      "outputs": [
        {
          "output_type": "stream",
          "name": "stdout",
          "text": [
            "                 0            1           2                3       4\n",
            "0     Date of test  Test number     Country          Age Y/M     Sex\n",
            "1       2023-04-13  2334000487D       Spain  3Years 11Months  Female\n",
            "2       2023-04-13  2331000683D  Netherland   2Years 8Months    Male\n",
            "3       2023-04-13  2331000884D     Germany   2Years 8Months    Male\n",
            "4       2023-04-13  2331000880D     Germany   7Years 9Months  Female\n",
            "...            ...          ...         ...              ...     ...\n",
            "6611    2023-06-30  2334002232D    Slovenia   2Years 5Months    Male\n",
            "6612    2023-06-30  2344000712D          UK   2Years 5Months    Male\n",
            "6613    2023-06-30  2331003547D  Netherland   2Years 5Months    Male\n",
            "6614    2023-06-30  2344000711D          UK   2Years 5Months    Male\n",
            "6615    2023-06-30  2334002236D       Spain   2Years 5Months    Male\n",
            "\n",
            "[6616 rows x 5 columns]\n"
          ]
        }
      ]
    },
    {
      "cell_type": "code",
      "source": [
        "md_transposed.columns = md_transposed.iloc[0] # set the first row as new column names\n",
        "print(md_transposed)"
      ],
      "metadata": {
        "id": "NNVU0oJpSF7O",
        "outputId": "612161dd-1917-41ff-e003-281ab620975b",
        "colab": {
          "base_uri": "https://localhost:8080/"
        }
      },
      "execution_count": 15,
      "outputs": [
        {
          "output_type": "stream",
          "name": "stdout",
          "text": [
            "0     Date of test  Test number     Country          Age Y/M     Sex\n",
            "0     Date of test  Test number     Country          Age Y/M     Sex\n",
            "1       2023-04-13  2334000487D       Spain  3Years 11Months  Female\n",
            "2       2023-04-13  2331000683D  Netherland   2Years 8Months    Male\n",
            "3       2023-04-13  2331000884D     Germany   2Years 8Months    Male\n",
            "4       2023-04-13  2331000880D     Germany   7Years 9Months  Female\n",
            "...            ...          ...         ...              ...     ...\n",
            "6611    2023-06-30  2334002232D    Slovenia   2Years 5Months    Male\n",
            "6612    2023-06-30  2344000712D          UK   2Years 5Months    Male\n",
            "6613    2023-06-30  2331003547D  Netherland   2Years 5Months    Male\n",
            "6614    2023-06-30  2344000711D          UK   2Years 5Months    Male\n",
            "6615    2023-06-30  2334002236D       Spain   2Years 5Months    Male\n",
            "\n",
            "[6616 rows x 5 columns]\n"
          ]
        }
      ]
    },
    {
      "cell_type": "markdown",
      "source": [
        "- Make sure to remove the first row, which now has become the column names"
      ],
      "metadata": {
        "id": "j9JPHcgcetB4"
      }
    },
    {
      "cell_type": "code",
      "source": [
        "md_cleaned = md_transposed.drop(md_transposed.index[0]) # drop the first row\n",
        "print(md_cleaned)"
      ],
      "metadata": {
        "id": "gLl-NPoxSiuv",
        "outputId": "cace6a78-5492-483e-b977-c40b38a29053",
        "colab": {
          "base_uri": "https://localhost:8080/"
        }
      },
      "execution_count": 16,
      "outputs": [
        {
          "output_type": "stream",
          "name": "stdout",
          "text": [
            "0    Date of test  Test number     Country           Age Y/M     Sex\n",
            "1      2023-04-13  2334000487D       Spain   3Years 11Months  Female\n",
            "2      2023-04-13  2331000683D  Netherland    2Years 8Months    Male\n",
            "3      2023-04-13  2331000884D     Germany    2Years 8Months    Male\n",
            "4      2023-04-13  2331000880D     Germany    7Years 9Months  Female\n",
            "5      2023-04-13  2331000851D  Netherland  11Years 11Months    Male\n",
            "...           ...          ...         ...               ...     ...\n",
            "6611   2023-06-30  2334002232D    Slovenia    2Years 5Months    Male\n",
            "6612   2023-06-30  2344000712D          UK    2Years 5Months    Male\n",
            "6613   2023-06-30  2331003547D  Netherland    2Years 5Months    Male\n",
            "6614   2023-06-30  2344000711D          UK    2Years 5Months    Male\n",
            "6615   2023-06-30  2334002236D       Spain    2Years 5Months    Male\n",
            "\n",
            "[6615 rows x 5 columns]\n"
          ]
        }
      ]
    },
    {
      "cell_type": "markdown",
      "source": [
        "### Use 'head' to inspect your table and make sure it looks as below:\n",
        "\n",
        "\tDate of test Test number\tCountry\tAge Y/M**\n",
        "\n",
        "1\t2023-04-13\t2334000487D\tSpain\t3Years 11Months\n",
        "\n",
        "2\t2023-04-13\t2331000683D\tNetherland\t2Years 8Months\n",
        "\n",
        "3\t2023-04-13\t2331000884D\tGermany\t2Years 8Months\n",
        "\n",
        "4\t2023-04-13\t2331000880D\tGermany\t7Years 9Months\n",
        "\n",
        "5\t2023-04-13\t2331000851D\tNetherland\t11Years 11Months"
      ],
      "metadata": {
        "id": "UCIywvdoe8dt"
      }
    },
    {
      "cell_type": "code",
      "source": [
        "print(md_cleaned.head)"
      ],
      "metadata": {
        "id": "kbloxM7FWPlc",
        "outputId": "1b7e4d13-a75b-43ae-93a2-b1ef202d58fc",
        "colab": {
          "base_uri": "https://localhost:8080/"
        }
      },
      "execution_count": 17,
      "outputs": [
        {
          "output_type": "stream",
          "name": "stdout",
          "text": [
            "<bound method NDFrame.head of 0    Date of test  Test number     Country           Age Y/M     Sex\n",
            "1      2023-04-13  2334000487D       Spain   3Years 11Months  Female\n",
            "2      2023-04-13  2331000683D  Netherland    2Years 8Months    Male\n",
            "3      2023-04-13  2331000884D     Germany    2Years 8Months    Male\n",
            "4      2023-04-13  2331000880D     Germany    7Years 9Months  Female\n",
            "5      2023-04-13  2331000851D  Netherland  11Years 11Months    Male\n",
            "...           ...          ...         ...               ...     ...\n",
            "6611   2023-06-30  2334002232D    Slovenia    2Years 5Months    Male\n",
            "6612   2023-06-30  2344000712D          UK    2Years 5Months    Male\n",
            "6613   2023-06-30  2331003547D  Netherland    2Years 5Months    Male\n",
            "6614   2023-06-30  2344000711D          UK    2Years 5Months    Male\n",
            "6615   2023-06-30  2334002236D       Spain    2Years 5Months    Male\n",
            "\n",
            "[6615 rows x 5 columns]>\n"
          ]
        }
      ]
    },
    {
      "cell_type": "markdown",
      "source": [
        "### Rename the Metadata columns\n",
        "- rename the columns 'Date of test' to 'Date', 'Test number' to 'TestID' and 'Age Y/M' to 'Age (M)'"
      ],
      "metadata": {
        "id": "-fM9HLLNZXNi"
      }
    },
    {
      "cell_type": "code",
      "source": [
        "rename_dict = {\n",
        "    'Date of test': 'Date',\n",
        "    'Test number': 'TestID',\n",
        "    'Age Y/M': 'Age (M)'\n",
        "}"
      ],
      "metadata": {
        "id": "_LWmnfKCtH0i"
      },
      "execution_count": 18,
      "outputs": []
    },
    {
      "cell_type": "code",
      "source": [
        "md_cleaned = md_cleaned.rename(columns=rename_dict)\n",
        "print(md_cleaned)"
      ],
      "metadata": {
        "id": "seixaREydWtB",
        "outputId": "bf2afc5b-216e-452c-ee2d-2b1e75064fe9",
        "colab": {
          "base_uri": "https://localhost:8080/"
        }
      },
      "execution_count": 19,
      "outputs": [
        {
          "output_type": "stream",
          "name": "stdout",
          "text": [
            "0           Date       TestID     Country           Age (M)     Sex\n",
            "1     2023-04-13  2334000487D       Spain   3Years 11Months  Female\n",
            "2     2023-04-13  2331000683D  Netherland    2Years 8Months    Male\n",
            "3     2023-04-13  2331000884D     Germany    2Years 8Months    Male\n",
            "4     2023-04-13  2331000880D     Germany    7Years 9Months  Female\n",
            "5     2023-04-13  2331000851D  Netherland  11Years 11Months    Male\n",
            "...          ...          ...         ...               ...     ...\n",
            "6611  2023-06-30  2334002232D    Slovenia    2Years 5Months    Male\n",
            "6612  2023-06-30  2344000712D          UK    2Years 5Months    Male\n",
            "6613  2023-06-30  2331003547D  Netherland    2Years 5Months    Male\n",
            "6614  2023-06-30  2344000711D          UK    2Years 5Months    Male\n",
            "6615  2023-06-30  2334002236D       Spain    2Years 5Months    Male\n",
            "\n",
            "[6615 rows x 5 columns]\n"
          ]
        }
      ]
    },
    {
      "cell_type": "markdown",
      "source": [
        "### Convert the Age column\n",
        "The function below converts a string into a number of total month e.g.:\n",
        "\n",
        "\"2Years 8Months\" convert to 32.0\n",
        "\n",
        "- use the below function to convert each 'string' from the Age column into a number (float)\n",
        "- Hint: check the function '.apply(convert_to_month)' which works on a dataframe column"
      ],
      "metadata": {
        "id": "5b6bsj-atFuq"
      }
    },
    {
      "cell_type": "code",
      "source": [
        "import re\n",
        "\n",
        "def convert_to_months(duration_str):\n",
        "        # Check for missing or empty entries\n",
        "    if pd.isnull(duration_str) or duration_str.strip() == \"\":\n",
        "        return None\n",
        "\n",
        "\n",
        "    # Regular expression to find years and months in the input string\n",
        "    year_pattern = re.compile(r\"(\\d+)\\s*Years?\")\n",
        "    month_pattern = re.compile(r\"(\\d+)\\s*Months?\")\n",
        "\n",
        "    # Search for years and months in the input string\n",
        "    years_match = year_pattern.search(duration_str)\n",
        "    months_match = month_pattern.search(duration_str)\n",
        "\n",
        "    # Extract years and months from the matches\n",
        "    years = int(years_match.group(1)) if years_match else 0\n",
        "    months = int(months_match.group(1)) if months_match else 0\n",
        "\n",
        "    # Convert years to months and add to months\n",
        "    total_months = (years * 12) + months\n",
        "\n",
        "    return int(total_months)\n"
      ],
      "metadata": {
        "id": "qb0qxwYabnxg"
      },
      "execution_count": null,
      "outputs": []
    },
    {
      "cell_type": "code",
      "source": [
        "import re\n",
        "\n",
        "def convert_to_months(duration_str):\n",
        "        # Check for missing or empty entries\n",
        "    if pd.isnull(duration_str) or duration_str.strip() == \"\":\n",
        "        return None\n",
        "\n",
        "\n",
        "    # Regular expression to find years and months in the input string\n",
        "    year_pattern = re.compile(r\"(\\d+)\\s*Years?\")\n",
        "    month_pattern = re.compile(r\"(\\d+)\\s*Months?\")\n",
        "\n",
        "    # Search for years and months in the input string\n",
        "    years_match = year_pattern.search(duration_str)\n",
        "    months_match = month_pattern.search(duration_str)\n",
        "\n",
        "    # Extract years and months from the matches\n",
        "    years = int(years_match.group(1)) if years_match else 0\n",
        "    months = int(months_match.group(1)) if months_match else 0\n",
        "\n",
        "    # Convert years to months and add to months\n",
        "    total_months = (years * 12) + months\n",
        "\n",
        "    return int(total_months)"
      ],
      "metadata": {
        "id": "0AIbaxEndxyE"
      },
      "execution_count": 21,
      "outputs": []
    },
    {
      "cell_type": "code",
      "source": [
        "# convert md['Age (M)'] to number\n",
        "# write your code here:\n",
        "md_cleaned['Age (M)'] = md_cleaned['Age (M)'].apply(convert_to_months)\n",
        "\n",
        "\n",
        "\n"
      ],
      "metadata": {
        "id": "Tmqa7N1Dc72Q"
      },
      "execution_count": 22,
      "outputs": []
    },
    {
      "cell_type": "markdown",
      "source": [
        "Check the result with 'head'"
      ],
      "metadata": {
        "id": "uG_SBjqjt8pg"
      }
    },
    {
      "cell_type": "code",
      "source": [
        "print(md_cleaned.head)"
      ],
      "metadata": {
        "id": "ATSXGe5IfEaD",
        "outputId": "06edef1b-3fec-41f7-a377-f4e6ee494da5",
        "colab": {
          "base_uri": "https://localhost:8080/"
        }
      },
      "execution_count": 23,
      "outputs": [
        {
          "output_type": "stream",
          "name": "stdout",
          "text": [
            "<bound method NDFrame.head of 0           Date       TestID     Country  Age (M)     Sex\n",
            "1     2023-04-13  2334000487D       Spain     47.0  Female\n",
            "2     2023-04-13  2331000683D  Netherland     32.0    Male\n",
            "3     2023-04-13  2331000884D     Germany     32.0    Male\n",
            "4     2023-04-13  2331000880D     Germany     93.0  Female\n",
            "5     2023-04-13  2331000851D  Netherland    143.0    Male\n",
            "...          ...          ...         ...      ...     ...\n",
            "6611  2023-06-30  2334002232D    Slovenia     29.0    Male\n",
            "6612  2023-06-30  2344000712D          UK     29.0    Male\n",
            "6613  2023-06-30  2331003547D  Netherland     29.0    Male\n",
            "6614  2023-06-30  2344000711D          UK     29.0    Male\n",
            "6615  2023-06-30  2334002236D       Spain     29.0    Male\n",
            "\n",
            "[6615 rows x 5 columns]>\n"
          ]
        }
      ]
    },
    {
      "cell_type": "markdown",
      "source": [
        "### Rename the columns of expr\n",
        "- use the Test Number from md['Test number'] as new column names for the expr data"
      ],
      "metadata": {
        "id": "sY4MxunMXKIn"
      }
    },
    {
      "cell_type": "code",
      "source": [
        "# Check number of columns in expr and number of TestIDs\n",
        "print(\"Number of columns in expr:\", expr.shape[1])\n",
        "print(\"Number of TestIDs:\", len(md_cleaned['TestID']))\n"
      ],
      "metadata": {
        "id": "IYVz2rJDWV8L",
        "outputId": "f9622ac5-bc5a-4109-d2ac-3e88fa1df1c0",
        "colab": {
          "base_uri": "https://localhost:8080/"
        }
      },
      "execution_count": 24,
      "outputs": [
        {
          "output_type": "stream",
          "name": "stdout",
          "text": [
            "Number of columns in expr: 6615\n",
            "Number of TestIDs: 6615\n"
          ]
        }
      ]
    },
    {
      "cell_type": "code",
      "source": [
        "expr.columns = md_cleaned['TestID']\n",
        "print(expr.head)"
      ],
      "metadata": {
        "id": "Rz6yYbBfeC7p",
        "outputId": "e93b4796-fff2-46c5-e1e6-3ca45e0001d8",
        "colab": {
          "base_uri": "https://localhost:8080/"
        }
      },
      "execution_count": 25,
      "outputs": [
        {
          "output_type": "stream",
          "name": "stdout",
          "text": [
            "<bound method NDFrame.head of TestID        2334000487D 2331000683D 2331000884D 2331000880D 2331000851D  \\\n",
            "0                                                                           \n",
            "Cyn d                18.5       19.67       20.11       18.09       17.92   \n",
            "rCyn d 1            22.99       21.95       20.66       21.68       20.56   \n",
            "Dac g               19.15       19.57       21.78       18.37       18.12   \n",
            "Fes p               21.84        21.3       26.96       24.05       23.21   \n",
            "rLol p 1            22.33       22.23       22.59       21.99       23.16   \n",
            "...                   ...         ...         ...         ...         ...   \n",
            "Sola t              22.05       22.33       22.33       21.61       21.85   \n",
            "rSola t 2           22.36       24.08       24.08       16.39       16.83   \n",
            "rSola t_GBSSI       23.43       24.02       24.02       19.78       20.01   \n",
            "rHom s LF           27.51       27.94       27.94       27.75       27.55   \n",
            "CCD-HSA                27       25.61       25.61       24.08       22.01   \n",
            "\n",
            "TestID        2331001025D 2331000881D 2331000879D 2344000227D 2334000522D  \\\n",
            "0                                                                           \n",
            "Cyn d               17.78       18.64        21.3        20.5       17.64   \n",
            "rCyn d 1            21.62       22.83        23.2       25.07       22.32   \n",
            "Dac g               19.35       19.95       21.52       20.55       19.35   \n",
            "Fes p               22.62       21.98       24.55       20.39       22.08   \n",
            "rLol p 1            21.27       22.99       23.95       21.35       22.06   \n",
            "...                   ...         ...         ...         ...         ...   \n",
            "Sola t              20.94       19.71       21.27       18.76       18.76   \n",
            "rSola t 2           30.73       18.29        19.2       18.89       18.89   \n",
            "rSola t_GBSSI       24.56       23.26       21.62       21.01       21.01   \n",
            "rHom s LF            27.9       27.82       27.71       27.65       27.65   \n",
            "CCD-HSA             21.98       21.86       21.37       21.24       21.24   \n",
            "\n",
            "TestID         ... 2334002233D 2348000664D 2331003597D 2331003185D  \\\n",
            "0              ...                                                   \n",
            "Cyn d          ...       16.33       17.18       15.48       15.79   \n",
            "rCyn d 1       ...       23.27       21.77       21.78       20.69   \n",
            "Dac g          ...       19.28       20.33       17.34       19.06   \n",
            "Fes p          ...       21.14       22.39       20.93       21.78   \n",
            "rLol p 1       ...       17.81       19.57       22.76       21.23   \n",
            "...            ...         ...         ...         ...         ...   \n",
            "Sola t         ...       20.05       21.44        21.6       18.46   \n",
            "rSola t 2      ...       17.37       19.06        19.1       18.23   \n",
            "rSola t_GBSSI  ...       21.38        20.4       20.35       21.23   \n",
            "rHom s LF      ...       16.05       15.96       15.85       15.76   \n",
            "CCD-HSA        ...       17.95       18.37       17.59       18.89   \n",
            "\n",
            "TestID        2331003447D 2334002232D 2344000712D 2331003547D 2344000711D  \\\n",
            "0                                                                           \n",
            "Cyn d               18.64       17.44       17.05       18.42       19.03   \n",
            "rCyn d 1            26.49       20.76       21.07       24.48        21.4   \n",
            "Dac g               18.86       17.84       18.67       19.99       21.01   \n",
            "Fes p               19.95       20.64       20.79       19.24       24.33   \n",
            "rLol p 1            21.77       19.41       22.32       20.15        22.7   \n",
            "...                   ...         ...         ...         ...         ...   \n",
            "Sola t              19.28       19.28       20.99       19.42       19.89   \n",
            "rSola t 2           16.97       16.97       19.72       19.35       17.84   \n",
            "rSola t_GBSSI       20.13       20.13       21.65       21.24       20.97   \n",
            "rHom s LF           15.76       15.76       15.66       15.55       15.44   \n",
            "CCD-HSA             17.13       17.13       17.25       17.78       17.76   \n",
            "\n",
            "TestID        2334002236D  \n",
            "0                          \n",
            "Cyn d               16.73  \n",
            "rCyn d 1            20.12  \n",
            "Dac g                17.4  \n",
            "Fes p               20.77  \n",
            "rLol p 1            20.96  \n",
            "...                   ...  \n",
            "Sola t              18.79  \n",
            "rSola t 2           16.53  \n",
            "rSola t_GBSSI       19.07  \n",
            "rHom s LF            14.9  \n",
            "CCD-HSA             16.76  \n",
            "\n",
            "[245 rows x 6615 columns]>\n"
          ]
        }
      ]
    },
    {
      "cell_type": "markdown",
      "source": [
        "### Print the shapes of both tables\n",
        "- check if the number of columns in expr matches the number of rows in md"
      ],
      "metadata": {
        "id": "rDGDdLM8XphK"
      }
    },
    {
      "cell_type": "markdown",
      "source": [
        "### Dropping duplicates and keep='first'"
      ],
      "metadata": {
        "id": "nOLYa7r6fk2t"
      }
    },
    {
      "cell_type": "code",
      "source": [
        "# This function can be use to inspect if there a duplictes within a column\n",
        "md['TestID'].duplicated()"
      ],
      "metadata": {
        "id": "e7XyxZV5SHBb"
      },
      "execution_count": null,
      "outputs": []
    },
    {
      "cell_type": "code",
      "source": [
        "# remove duplicate values in TestID column\n",
        "# Hint: check the function: 'drop_duplicates'\n",
        "# Hint: use the parameter 'keep='first'' to keep the first occurance and remove following duplicates\n"
      ],
      "metadata": {
        "id": "bEKgsnPafkRb"
      },
      "execution_count": null,
      "outputs": []
    },
    {
      "cell_type": "markdown",
      "source": [
        "### Don't forget to drop the duplicates on the expression data as well:"
      ],
      "metadata": {
        "id": "CjgXThY1f8FS"
      }
    },
    {
      "cell_type": "code",
      "source": [
        "# example:\n",
        "\n",
        "# df = df.loc[:, ~df.columns.duplicated()]\n",
        "\n",
        "# where df.columns.duplicated(): returns a boolean array of duplicates\n",
        "# ~ negates the boolean values: True is False and False is True\n"
      ],
      "metadata": {
        "id": "_9b1mQlLgHOe"
      },
      "execution_count": null,
      "outputs": []
    },
    {
      "cell_type": "markdown",
      "source": [
        "### Print the shapes of both table and make sure the number of rows in md and the number of columns in expr are matching"
      ],
      "metadata": {
        "id": "ilTwsoAtiJxc"
      }
    },
    {
      "cell_type": "markdown",
      "source": [
        "### Saving the DATA\n",
        "After initial cleaning, let's save the data in its current form:\n",
        "- save both tables as csv file in the current directory"
      ],
      "metadata": {
        "id": "3J5PXgF6JDmz"
      }
    },
    {
      "cell_type": "code",
      "source": [],
      "metadata": {
        "id": "7XaJwznRJisK"
      },
      "execution_count": null,
      "outputs": []
    },
    {
      "cell_type": "markdown",
      "source": [
        "### Subsetting the data\n",
        "- subset the metadata and expression data to county = 'Spain'\n",
        "\n",
        "Hint: use the TestID on the filtered data to subset on the expression data"
      ],
      "metadata": {
        "id": "gMFOzMKyM4_0"
      }
    },
    {
      "cell_type": "code",
      "source": [
        "md_spain = md.loc[md.Country == 'Spain', :]\n",
        "\n",
        "testIdSpain = md.TestID[md.Country == 'Spain']"
      ],
      "metadata": {
        "id": "_eFTKBZGNMgI"
      },
      "execution_count": null,
      "outputs": []
    },
    {
      "cell_type": "markdown",
      "source": [
        "- Print the shapes to check the result"
      ],
      "metadata": {
        "id": "jlFeuh7lwT5G"
      }
    },
    {
      "cell_type": "code",
      "source": [],
      "metadata": {
        "id": "bU2obVLnPZiH"
      },
      "execution_count": null,
      "outputs": []
    },
    {
      "cell_type": "markdown",
      "source": [
        "# Exploration of the expression data\n",
        "To gain an initial understanding of the expression data, we need to filter out the noise. Currently, noise is defined as values below 30.\n",
        "\n",
        "- Convert the expr dataframe into a numpy array\n",
        "- Set values below 30 to 0.0\n",
        "\n",
        "Remove rows were all values are 0\n",
        "- use the 'sum' method (axsis = 1) to the the sums of each row\n",
        "- use this rowsum values to subset the array"
      ],
      "metadata": {
        "id": "N9F2SKGsKHB_"
      }
    },
    {
      "cell_type": "code",
      "source": [
        "# Convert to numpy\n"
      ],
      "metadata": {
        "id": "oL1ccxGwKAvi"
      },
      "execution_count": null,
      "outputs": []
    },
    {
      "cell_type": "code",
      "source": [
        "# Set values below 30 to 0\n",
        "# Hint:\n",
        "# 'my_array < value' will return a boolean array which can be used\n"
      ],
      "metadata": {
        "id": "pveqaIH8LJhH"
      },
      "execution_count": null,
      "outputs": []
    },
    {
      "cell_type": "code",
      "source": [
        "# Calculate row sums\n",
        "\n",
        "\n",
        "# Filter rows where the sum is not 0\n"
      ],
      "metadata": {
        "id": "5RgqJExRQLfh"
      },
      "execution_count": null,
      "outputs": []
    },
    {
      "cell_type": "markdown",
      "source": [
        "### Visualize the Expression Data\n",
        "\n",
        "The follwing code is provided. Just make sure you replace the names of the variables with your variable names."
      ],
      "metadata": {
        "id": "x3L9CpZ2L-Ek"
      }
    },
    {
      "cell_type": "code",
      "source": [
        "import seaborn as sns\n",
        "# import pandas as pd\n",
        "from sklearn.cluster import KMeans  # Example clustering algorithm\n",
        "from sklearn.preprocessing import StandardScaler"
      ],
      "metadata": {
        "id": "nOyW1XMvLu_Q"
      },
      "execution_count": null,
      "outputs": []
    },
    {
      "cell_type": "code",
      "source": [
        "# Standardize data (optional)\n",
        "scaler = StandardScaler()\n",
        "scaled_exp = scaler.fit_transform(filtered_df) # use the name of your array"
      ],
      "metadata": {
        "id": "U6smHFUIL7_M"
      },
      "execution_count": null,
      "outputs": []
    },
    {
      "cell_type": "code",
      "source": [
        "# Create the clustermap with hierarchical clustering\n",
        "sns.clustermap(scaled_exp,\n",
        "               method='ward',  # Linkage method (ward, single, complete, average, etc.)\n",
        "               metric='euclidean',  # Distance metric (euclidean, cityblock, etc.)\n",
        "               cmap=\"YlGnBu\",       # Colormap\n",
        "               figsize=(10, 8))    # Figure size"
      ],
      "metadata": {
        "id": "ZBG43Yg6MW0h"
      },
      "execution_count": null,
      "outputs": []
    },
    {
      "cell_type": "markdown",
      "source": [
        "### Right click the plot and save the heatmap as image\n",
        "\n",
        "# Done. Congratulations!"
      ],
      "metadata": {
        "id": "qYo7-frTTQsF"
      }
    }
  ]
}